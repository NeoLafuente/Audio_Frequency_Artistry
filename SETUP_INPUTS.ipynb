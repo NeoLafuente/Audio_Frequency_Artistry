{
 "cells": [
  {
   "cell_type": "markdown",
   "id": "a0a706bc",
   "metadata": {},
   "source": [
    "##### Copyright 2023 Melchor Lafuente Duque"
   ]
  },
  {
   "cell_type": "markdown",
   "id": "9da11f8e",
   "metadata": {},
   "source": [
    "# DOWNLOAD THE INPUTS"
   ]
  },
  {
   "cell_type": "code",
   "execution_count": 1,
   "id": "83b5377d",
   "metadata": {},
   "outputs": [
    {
     "name": "stdout",
     "output_type": "stream",
     "text": [
      "File 'NCS.wav' downloaded and saved to 'STAGE_1/INPUT'\n",
      "File 'NCS.wav' downloaded and saved to 'STAGE_2/INPUT'\n",
      "File 'NCS.wav' downloaded and saved to 'STAGE_3/INPUT'\n",
      "File 'SY5.wav' downloaded and saved to 'STAGE_3/INPUT'\n",
      "File 'van_gogh.jpg' downloaded and saved to 'STAGE_2/INPUT'\n",
      "Download and save completed.\n"
     ]
    }
   ],
   "source": [
    "import requests\n",
    "import os\n",
    "\n",
    "# Define the file URLs and their corresponding destination folders\n",
    "files = {\n",
    "    \"NCS.wav\": \"https://drive.google.com/uc?id=1SuT00AKBbrg5diGNXler4dAR2ytDgbgc\",\n",
    "    \"SY5.wav\": \"https://drive.google.com/uc?id=1r5nqpH7aRT1w2jCFJYpn4qKSEm3dUHOc\",\n",
    "    \"van_gogh.jpg\": \"https://drive.google.com/uc?id=1GAgLXQniZIO6spngWcU4OpmVFr-X4pd1\"\n",
    "}\n",
    "\n",
    "# Define the destination folders for each file\n",
    "destination_folders = {\n",
    "    \"NCS.wav\": [\"STAGE_1/INPUT\", \"STAGE_2/INPUT\", \"STAGE_3/INPUT\"],\n",
    "    \"SY5.wav\": [\"STAGE_3/INPUT\"],\n",
    "    \"van_gogh.jpg\": [\"STAGE_2/INPUT\"]\n",
    "}\n",
    "\n",
    "# Create the destination folders if they don't exist\n",
    "for folders in destination_folders.values():\n",
    "    for folder in folders:\n",
    "        if not os.path.exists(folder):\n",
    "            os.makedirs(folder)\n",
    "\n",
    "# Download and save the files\n",
    "for file_name, file_url in files.items():\n",
    "    response = requests.get(file_url)\n",
    "    if response.status_code == 200:\n",
    "        for folder in destination_folders.get(file_name, []):\n",
    "            file_path = os.path.join(folder, file_name)\n",
    "            with open(file_path, \"wb\") as file:\n",
    "                file.write(response.content)\n",
    "            print(f\"File '{file_name}' downloaded and saved to '{folder}'\")\n",
    "    else:\n",
    "        print(f\"Error downloading '{file_name}'\")\n",
    "\n",
    "print(\"Download and save completed.\")"
   ]
  },
  {
   "cell_type": "markdown",
   "id": "190f90eb",
   "metadata": {},
   "source": [
    "# ADITIONAL HELP"
   ]
  },
  {
   "cell_type": "markdown",
   "id": "385a4379",
   "metadata": {},
   "source": [
    "As the files .pickle of the STAGE_2 and STAGE_3 are to heavy and complex to create, you can just download them and add them to their correspondig folders executing the next code:"
   ]
  },
  {
   "cell_type": "code",
   "execution_count": 3,
   "id": "16680b5b",
   "metadata": {},
   "outputs": [
    {
     "name": "stdout",
     "output_type": "stream",
     "text": [
      "File 'final_image_sliced.pickle' downloaded and saved to 'STAGE_2/OUTPUT_2'\n",
      "File 'final_image_sliced.pickle' downloaded and saved to 'STAGE_3/OUTPUT_3'\n",
      "Download and save completed.\n"
     ]
    }
   ],
   "source": [
    "# Define the file URLs and their corresponding destination folders\n",
    "files = {\n",
    "    \"final_image_sliced.pickle\": [\n",
    "        (\"https://drive.google.com/uc?id=1txddUIlF7syH02P0RM8xYuKw45JB-K5c\", \"STAGE_2/OUTPUT_2\"),\n",
    "        (\"https://drive.google.com/uc?id=1FYdT3EeTSAeRxpyd5Ea3YlgN5C0jxrqr\", \"STAGE_3/OUTPUT_3\")\n",
    "    ]\n",
    "}\n",
    "\n",
    "# Download and save the files\n",
    "for file_name, destinations in files.items():\n",
    "    for file_url, folder in destinations:\n",
    "        response = requests.get(file_url)\n",
    "        if response.status_code == 200:\n",
    "            file_path = os.path.join(folder, file_name)\n",
    "            with open(file_path, \"wb\") as file:\n",
    "                file.write(response.content)\n",
    "            print(f\"File '{file_name}' downloaded and saved to '{folder}'\")\n",
    "        else:\n",
    "            print(f\"Error downloading '{file_name}'\")\n",
    "\n",
    "print(\"Download and save completed.\")"
   ]
  }
 ],
 "metadata": {
  "kernelspec": {
   "display_name": "Python 3 (ipykernel)",
   "language": "python",
   "name": "python3"
  },
  "language_info": {
   "codemirror_mode": {
    "name": "ipython",
    "version": 3
   },
   "file_extension": ".py",
   "mimetype": "text/x-python",
   "name": "python",
   "nbconvert_exporter": "python",
   "pygments_lexer": "ipython3",
   "version": "3.8.10"
  }
 },
 "nbformat": 4,
 "nbformat_minor": 5
}
